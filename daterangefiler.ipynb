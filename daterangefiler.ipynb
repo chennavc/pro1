{
 "cells": [
  {
   "cell_type": "code",
   "execution_count": 3,
   "metadata": {},
   "outputs": [],
   "source": [
    "import sys,time,os,json,datetime,operator\n",
    "\n",
    "#SELECT * FROM cddata WHERE Date >= 2019-01-01 and Date <= 2019-01-20\n",
    "dateCount = {}\n",
    "kk=[]\n",
    "for root,dirs, files in os.walk('data'):\n",
    "    #print(root,dirs,files)\n",
    "    path = root.split(os.sep)\n",
    "    for fn in files:\n",
    "        fp = root+os.sep+fn\n",
    "        #print(fp)\n",
    "        f = open(fp, 'r')\n",
    "        for line in f:\n",
    "            data = json.loads(line)\n",
    "            payload = data['payload']\n",
    "            #payload.append(k) \n",
    "            payload = json.loads(payload)\n",
    "            #payload.append(k) \n",
    "            #print(payload['received'])\n",
    "            k = payload['received'].split('T')[0]\n",
    "            kk.append(k)  \n",
    "            #print(type(k))\n",
    "\n",
    "\n",
    "sorted_dc = sorted(dateCount.items(),key=operator.itemgetter(1),reverse=True)\n"
   ]
  },
  {
   "cell_type": "code",
   "execution_count": 4,
   "metadata": {},
   "outputs": [],
   "source": [
    "for line in f:\n",
    "            data = json.loads(line)\n",
    "            payload = data['payload']\n",
    "            payload = json.loads(payload)\n",
    "            #print(payload['received'])\n",
    "            k = payload['received'].split('T')[0]\n",
    "            kk.append(k)      "
   ]
  },
  {
   "cell_type": "code",
   "execution_count": 5,
   "metadata": {},
   "outputs": [],
   "source": [
    "            if k in dateCount.keys():\n",
    "                dateCount[k]+=1\n",
    "            else:\n",
    "                dateCount[k] = 1"
   ]
  },
  {
   "cell_type": "code",
   "execution_count": 14,
   "metadata": {},
   "outputs": [],
   "source": [
    "#print(kk)"
   ]
  },
  {
   "cell_type": "code",
   "execution_count": null,
   "metadata": {},
   "outputs": [],
   "source": []
  },
  {
   "cell_type": "code",
   "execution_count": 15,
   "metadata": {},
   "outputs": [],
   "source": [
    "ss=[]\n",
    "for x in kk:\n",
    "    x=x.split('-')\n",
    "    y=x[0]\n",
    "    m=x[1]\n",
    "    d=x[2]\n",
    "    if y == \"2019\" and m == \"01\":\n",
    "        if d >=\"01\" and  d <= \"02\":\n",
    "            y=(x[0]+\"-\"+x[1]+\"-\"+x[2])\n",
    "            ss.append(y)\n",
    "            \n",
    "    "
   ]
  },
  {
   "cell_type": "code",
   "execution_count": 16,
   "metadata": {},
   "outputs": [
    {
     "name": "stdout",
     "output_type": "stream",
     "text": [
      "1928\n"
     ]
    }
   ],
   "source": [
    "print(len(ss))"
   ]
  },
  {
   "cell_type": "code",
   "execution_count": 18,
   "metadata": {},
   "outputs": [
    {
     "name": "stdout",
     "output_type": "stream",
     "text": [
      "[('2019-02-06', 1)]\n"
     ]
    }
   ],
   "source": [
    "print(sorted_dc)\n",
    "f.close()\n",
    "file = 'output.txt'\n",
    "f = open(file, mode='a')\n",
    "for l in ss:\n",
    "    f.write(l + \"\\n\")\n",
    "f.close()\n",
    "#0 == key , 1 == value\n",
    "sorted_dc = sorted(dateCount.items(),key=operator.itemgetter(1),reverse=True)\n"
   ]
  },
  {
   "cell_type": "code",
   "execution_count": null,
   "metadata": {},
   "outputs": [],
   "source": []
  },
  {
   "cell_type": "code",
   "execution_count": null,
   "metadata": {},
   "outputs": [],
   "source": []
  }
 ],
 "metadata": {
  "kernelspec": {
   "display_name": "Python 3",
   "language": "python",
   "name": "python3"
  },
  "language_info": {
   "codemirror_mode": {
    "name": "ipython",
    "version": 3
   },
   "file_extension": ".py",
   "mimetype": "text/x-python",
   "name": "python",
   "nbconvert_exporter": "python",
   "pygments_lexer": "ipython3",
   "version": "3.7.4"
  }
 },
 "nbformat": 4,
 "nbformat_minor": 2
}
